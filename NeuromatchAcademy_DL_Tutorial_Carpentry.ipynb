{
  "nbformat": 4,
  "nbformat_minor": 0,
  "metadata": {
    "colab": {
      "name": "NeuromatchAcademy_DL_Tutorial Carpentry",
      "provenance": [],
      "collapsed_sections": [],
      "include_colab_link": true
    },
    "kernelspec": {
      "display_name": "Python 3",
      "language": "python",
      "name": "python3"
    },
    "language_info": {
      "codemirror_mode": {
        "name": "ipython",
        "version": 3
      },
      "file_extension": ".py",
      "mimetype": "text/x-python",
      "name": "python",
      "nbconvert_exporter": "python",
      "pygments_lexer": "ipython3",
      "version": "3.7.3"
    },
    "toc-autonumbering": true
  },
  "cells": [
    {
      "cell_type": "markdown",
      "metadata": {
        "id": "view-in-github",
        "colab_type": "text"
      },
      "source": [
        "<a href=\"https://colab.research.google.com/github/NeuromatchAcademy/content-creation/blob/add_random_seed/NeuromatchAcademy_DL_Tutorial_Carpentry.ipynb\" target=\"_parent\"><img src=\"https://colab.research.google.com/assets/colab-badge.svg\" alt=\"Open In Colab\"/></a>"
      ]
    },
    {
      "cell_type": "markdown",
      "metadata": {
        "id": "fDXAYdIHuyCV"
      },
      "source": [
        "\n",
        "# Neuromatch Academy: Week XX, Day YY, Tutorial ZZ  \n",
        "# Tutorial Carpentry\n",
        "\n",
        "__Content creators:__ Kelson Shilling-Scrivo, NMA Content Development Team \n",
        "\n",
        "__Content reviewers:__ Name Sirname, Name Sirname\n",
        "\n",
        "__Content editors:__ Name Sirname, Name Sirname"
      ]
    },
    {
      "cell_type": "markdown",
      "metadata": {
        "id": "gzAa0I1xZ79h"
      },
      "source": [
        "---\n",
        "#Tutorial Objectives\n",
        "\n",
        "Teach how to create didactic, easily digestable and fun content for the NMA-DL course.\n",
        "\n",
        "\n",
        "\n",
        "This course will teach you:\n",
        "*   DL code Styleguide\n",
        "*   Video Do's / Don'ts\n",
        "*   Written Content Do's / Don'ts\n",
        "*   Exercise Creation Do's don't\n",
        "\n",
        "This course will not teach you:\n",
        "\n",
        "*   Tutorial formatting [found here](https://github.com/NeuromatchAcademy/content-creation/blob/main/Neuromatch_Tutorial_Format.ipynb)\n",
        "\n",
        "\n",
        "\n",
        "\n"
      ]
    },
    {
      "cell_type": "code",
      "metadata": {
        "cellView": "both",
        "id": "3Yuh005kCT0v"
      },
      "source": [
        "# Import\n",
        "\n",
        "# Import only the libraries/objects that you use in this tutorial. \n",
        "\n",
        "# If any external library has to be installed, !pip install library --quiet\n",
        "# follow this order: numpy>matplotlib. \n",
        "# import widgets in hidden Figure settings cell\n",
        "\n",
        "!pip install einops --quiet #TODO get einops installed by default \n",
        "\n",
        "# Imports\n",
        "\n",
        "import os\n",
        "\n",
        "import pathlib\n",
        "import random\n",
        "import numpy as np\n",
        "import pandas as pd\n",
        "import matplotlib.cm as cm\n",
        "import matplotlib.pyplot as plt\n",
        "import matplotlib.ticker as ticker\n",
        "from tqdm.notebook import tqdm, trange\n",
        "\n",
        "# torch import style\n",
        "import torch\n",
        "import torch.nn as nn\n",
        "import torch.optim as optim\n",
        "import torch.nn.functional as F\n",
        "import torchvision.transforms as transforms\n",
        "from torchvision.datasets import ImageFolder\n",
        "import torchvision.datasets as datasets\n",
        "from torch.utils.data import DataLoader, TensorDataset\n",
        "from torchvision.utils import make_grid\n",
        "from IPython.display import HTML, display\n",
        "\n",
        "device = torch.device(\"cuda\" if torch.cuda.is_available() else \"cpu\")"
      ],
      "execution_count": 1,
      "outputs": []
    },
    {
      "cell_type": "code",
      "metadata": {
        "id": "PCOz4jKJXGya",
        "cellView": "form"
      },
      "source": [
        "#@title Figure settings\n",
        "import ipywidgets as widgets       # interactive display\n",
        "%config InlineBackend.figure_format = 'retina'\n",
        "plt.style.use(\"https://raw.githubusercontent.com/NeuromatchAcademy/course-content/master/nma.mplstyle\")"
      ],
      "execution_count": 2,
      "outputs": []
    },
    {
      "cell_type": "markdown",
      "metadata": {
        "id": "fbUVuJDTSmZP"
      },
      "source": [
        "# Common Helper Functions "
      ]
    },
    {
      "cell_type": "code",
      "metadata": {
        "id": "vGVC4AWz41jD",
        "cellView": "form"
      },
      "source": [
        "#@title Set random seed\n",
        "# for DL its critical to set the random seed so that students can have a\n",
        "# baseline to compare their results to expected results.\n",
        "# Read more here: https://pytorch.org/docs/stable/notes/randomness.html\n",
        "\n",
        "# Call `set_seed` function in the exercises to ensure reproducibility.\n",
        "def set_seed(seed):\n",
        "  random.seed(seed)\n",
        "  torch.manual_seed(seed)\n",
        "  torch.cuda.manual_seed_all(seed)\n",
        "  torch.cuda.manual_seed(seed)\n",
        "  np.random.seed(seed)\n",
        "  torch.backends.cudnn.benchmark = False\n",
        "  torch.backends.cudnn.deterministic = True\n",
        "  \n",
        "\n",
        "def seed_worker(worker_id):\n",
        "    worker_seed = torch.initial_seed() % 2**32\n",
        "    np.random.seed(worker_seed)\n",
        "    random.seed(worker_seed)\n",
        "\n",
        "set_seed(2021)"
      ],
      "execution_count": 3,
      "outputs": []
    },
    {
      "cell_type": "markdown",
      "metadata": {
        "id": "nULavCfq4o07"
      },
      "source": [
        "---\n",
        "\n",
        "# Section 1: Videos"
      ]
    },
    {
      "cell_type": "markdown",
      "metadata": {
        "id": "MycGcXpOi_E6"
      },
      "source": [
        "Place the youtube video ID and then hide the cell. Videos can be found [here](https://docs.google.com/spreadsheets/d/1I-q6YRn-o9XCE45KCd4zs80LKPiu7BvuqmAO_xIr55Y/edit?usp=sharing). The list is continuously being updated."
      ]
    },
    {
      "cell_type": "code",
      "metadata": {
        "colab": {
          "base_uri": "https://localhost:8080/",
          "height": 519
        },
        "id": "ThcPwgvzvV-6",
        "outputId": "94cb29c0-130c-4bbd-b3fb-915ebc3b62de"
      },
      "source": [
        "#@title Video 1: Video 1 Name\n",
        "# Insert the ID of the corresponding youtube video\n",
        "from IPython.display import YouTubeVideo\n",
        "video = YouTubeVideo(id=\"\", width=854, height=480, fs=1)\n",
        "print(\"Video available at https://youtu.be/\" + video.id)\n",
        "video"
      ],
      "execution_count": 4,
      "outputs": [
        {
          "output_type": "stream",
          "text": [
            "Video available at https://youtu.be/\n"
          ],
          "name": "stdout"
        },
        {
          "output_type": "execute_result",
          "data": {
            "text/html": [
              "\n",
              "        <iframe\n",
              "            width=\"854\"\n",
              "            height=\"480\"\n",
              "            src=\"https://www.youtube.com/embed/?fs=1\"\n",
              "            frameborder=\"0\"\n",
              "            allowfullscreen\n",
              "        ></iframe>\n",
              "        "
            ],
            "text/plain": [
              "<IPython.lib.display.YouTubeVideo at 0x7fc054b2c390>"
            ]
          },
          "metadata": {
            "tags": []
          },
          "execution_count": 4
        }
      ]
    },
    {
      "cell_type": "markdown",
      "metadata": {
        "id": "7w9LT3ywjeNH"
      },
      "source": [
        "The final cell with the video should look like the one below:"
      ]
    },
    {
      "cell_type": "code",
      "metadata": {
        "cellView": "form",
        "colab": {
          "base_uri": "https://localhost:8080/",
          "height": 519
        },
        "id": "0ORMQP5RjkIk",
        "outputId": "20768461-3363-49ce-989a-61d2bd385fae"
      },
      "source": [
        "#@title Video 2: DL welcome blah blah\n",
        "# Insert the ID of the corresponding youtube video\n",
        "from IPython.display import YouTubeVideo\n",
        "video = YouTubeVideo(id=\"ca21SNqt78I\", width=854, height=480, fs=1)\n",
        "print(\"Video available at https://youtu.be/\" + video.id)\n",
        "video"
      ],
      "execution_count": 5,
      "outputs": [
        {
          "output_type": "stream",
          "text": [
            "Video available at https://youtu.be/ca21SNqt78I\n"
          ],
          "name": "stdout"
        },
        {
          "output_type": "execute_result",
          "data": {
            "text/html": [
              "\n",
              "        <iframe\n",
              "            width=\"854\"\n",
              "            height=\"480\"\n",
              "            src=\"https://www.youtube.com/embed/ca21SNqt78I?fs=1\"\n",
              "            frameborder=\"0\"\n",
              "            allowfullscreen\n",
              "        ></iframe>\n",
              "        "
            ],
            "text/plain": [
              "<IPython.lib.display.YouTubeVideo at 0x7fc0546ac590>"
            ],
            "image/jpeg": "[encoded data removed]"
          },
          "metadata": {
            "tags": []
          },
          "execution_count": 5
        }
      ]
    },
    {
      "cell_type": "markdown",
      "metadata": {
        "id": "z8axuI6upLv4"
      },
      "source": [
        "Take-aways: \n",
        "\n",
        "1.   one concept per video \n",
        "2.   many small videos preferable to 1 large video\n",
        "3.   Keep distance between idea and interaction small \n",
        "\n",
        "Do not: \n",
        "\n",
        "1.   Speak in mathematical notation \n",
        "\n",
        "\n",
        "> instead of: as we increase alpha, Say : as  we increase the learning rate. \n",
        "\n"
      ]
    },
    {
      "cell_type": "markdown",
      "metadata": {
        "id": "j9n17gXFOIXX"
      },
      "source": [
        "## Section 2: Written Text\n",
        "The text is meant to suppliment the videos and reiterate the key information provided in the lecture. It is the RAM buffer that stores the key points of the video while they complete the exercise. It is **not** a source of completely new information. Writing an entire section with a new concept entirely in text form is a anti-pattern and usually a sign that a video was missing a key concept, and a large written section was used as a band-aid. \n",
        "\n",
        "\n",
        "\n",
        "\n",
        "\n",
        "\n"
      ]
    },
    {
      "cell_type": "markdown",
      "metadata": {
        "id": "6StJS7a_yFbO"
      },
      "source": [
        "# Section 3: Writing Exercises "
      ]
    },
    {
      "cell_type": "markdown",
      "metadata": {
        "id": "KMFOHL7Pj8mf"
      },
      "source": [
        "his exercise fits in this subsection so is a level 3 header. We name it after the section it is in.\n",
        "\n",
        "Very briefly summarize the exercise here. The first exercise should not be too difficult, to serve as a warm-up for students. Outputs of the code cell will ideally be a plot or a print of the architecture (so students can easily check against the correct one). In limited cases, the output may be printing numbers, text, etc. In that case you need to write the solution output manually after the exercise (E.g.: \"You should see the syntetic data when running the cell above\")."
      ]
    },
    {
      "cell_type": "code",
      "metadata": {
        "cellView": "form",
        "id": "DyrdSzS4mIFI"
      },
      "source": [
        "# @markdown *Execute this cell to enable the plotting function: `plot_data`*\n",
        "\n",
        "def plot_data(X, y):\n",
        "  \"\"\"\n",
        "  Synthetic data generator in the form:\n",
        "      y = Xw + b + gaussian_noise(0, sigma).\n",
        "  \n",
        "  Parameters\n",
        "  ----------\n",
        "  X: torch.tensor\n",
        "      the independent variable(s).\n",
        "  y: torch.tensor\n",
        "      the dependent variable\n",
        "  \n",
        "  Returns\n",
        "  -------\n",
        "  Nothing.\n",
        "  \"\"\"\n",
        "\n",
        "  plt.figure()\n",
        "  plt.scatter(X, y)\n",
        "  plt.xlabel('x (independent variable)')\n",
        "  plt.ylabel('y (dependent variable)')\n",
        "  plt.show()"
      ],
      "execution_count": 6,
      "outputs": []
    },
    {
      "cell_type": "markdown",
      "metadata": {
        "id": "Cw463ZN4m4sG"
      },
      "source": [
        "Warn them when they will use a helper function. For example: In this exercise, you will also invoke `plot_data` which plots the data you have generated."
      ]
    },
    {
      "cell_type": "code",
      "metadata": {
        "id": "ztCl8eDHjyuX"
      },
      "source": [
        "def synthetic_dataset(weights, bias, num_examples=1000, sigma=0.01, seed=2021):\n",
        "  \"\"\"\n",
        "  Synthetic data generator in the form:\n",
        "      y = Xw + b + gaussian_noise(0, sigma).\n",
        "  \n",
        "  Parameters\n",
        "  ----------\n",
        "  weights : torch.tensor\n",
        "      weights. The length of `w` denotes the number of independent variables\n",
        "  bias : torch.tensor\n",
        "      bias (offset or intercept).\n",
        "  num_examples : INT, optional\n",
        "      DESCRIPTION. The default is 1000.\n",
        "  sigma : FLOAT, optional\n",
        "      Standard deviation of the Gaussian noise. The default is 0.01.\n",
        "  seed : INT, optional\n",
        "      Seed the RNG for reproducibility. The default is 2021.\n",
        "  \n",
        "  Returns\n",
        "  -------\n",
        "  X: torch.tensor\n",
        "      the independent variable(s).\n",
        "  y: torch.tensor\n",
        "      the dependent variable\n",
        "  \n",
        "  \"\"\"\n",
        "\n",
        "  # Set the seed for reproducibility\n",
        "  set_seed(seed)\n",
        "\n",
        "  X = torch.normal(0, 1, (weights.shape[0], num_examples))\n",
        "  #################################################\n",
        "  ## TODO for students: details of what they should do ##\n",
        "  # Fill out function and remove\n",
        "  raise NotImplementedError(\"Student exercise: say what they should have done\")\n",
        "  #################################################\n",
        "  # Have a comment for every line of code they need to write, and when possible have\n",
        "  # variables written with ellipses where they should fill in or ellipses where they should\n",
        "  # fill in inputs to functions\n",
        "  y = ...\n",
        "  # Another comment because they need to add another line of code\n",
        "  y += ...\n",
        "\n",
        "  return X, y.reshape((-1, 1))\n",
        "\n",
        "\n",
        "w = torch.tensor([2.5]).reshape(-1,1)\n",
        "b = 1.2\n",
        "N = 50\n",
        "\n",
        "# Uncomment the code below to test your function\n",
        "# we usually define the plotting function in the hidden Helper Functions\n",
        "# so students don't have to see a bunch of boilerplate matplotlib code\n",
        "# xkcd style for solution plot\n",
        "# X, y = synthetic_dataset(weights=w, bias=b, num_examples=10, sigma=2.5,\n",
        "#                          seed=2021)\n",
        "# plot_data(X, y)"
      ],
      "execution_count": 7,
      "outputs": []
    },
    {
      "cell_type": "markdown",
      "metadata": {
        "id": "vd9JfcDrbQ_d"
      },
      "source": [
        "---\n",
        "__Editor guideline for exercise solution formatting:__\n",
        "- the presence of # to_remove solution in the first line of solution block\n",
        "- The absence of the fenced (#####) block that raises a NotImplementedError\n",
        "- Valid code replacing all ellipses  (...)\n",
        "- Code that uses or depends on the completed function/lines is uncommented\n",
        "- Plotting code is indented under a with plt.xkcd(): context manager.\n",
        "- Using ***SAME SEED*** such that student should be able to replicate sample results **exactly**.\n",
        "- **All other comments and code should be identical**\n",
        "---"
      ]
    },
    {
      "cell_type": "code",
      "metadata": {
        "cellView": "both",
        "colab": {
          "base_uri": "https://localhost:8080/",
          "height": 433
        },
        "id": "tycSi5Pxbsne",
        "outputId": "254e00ef-ae54-4ba9-b2c2-11bcdc7b7b9b"
      },
      "source": [
        "def synthetic_dataset(weights, bias, num_examples=1000, sigma=0.01, seed=2021):\n",
        "  \"\"\"\n",
        "  Synthetic data generator in the form:\n",
        "      y = Xw + b + gaussian_noise(0, sigma).\n",
        "  \n",
        "  Parameters\n",
        "  ----------\n",
        "  weights : torch.tensor\n",
        "      weights. The length of `w` denotes the number of independent variables\n",
        "  bias : torch.tensor\n",
        "      bias (offset or intercept).\n",
        "  num_examples : INT, optional\n",
        "      DESCRIPTION. The default is 1000.\n",
        "  sigma : FLOAT, optional\n",
        "      Standard deviation of the Gaussian noise. The default is 0.01.\n",
        "  seed : INT, optional\n",
        "      Seed the RNG for reproducibility. The default is 2021.\n",
        "  \n",
        "  Returns\n",
        "  -------\n",
        "  X: torch.tensor\n",
        "      the independent variable(s).\n",
        "  y: torch.tensor\n",
        "      the dependent variable\n",
        "  \n",
        "  \"\"\"\n",
        "\n",
        "  # Set the seed for reproducibility\n",
        "  set_seed(seed)\n",
        "\n",
        "  X = torch.normal(0, 1, (weights.shape[0], num_examples))\n",
        "  # Have a comment for every line of code they need to write, and when possible have\n",
        "  # variables written with ellipses where they should fill in or ellipses where they should\n",
        "  # fill in inputs to functions\n",
        "  y = torch.matmul(w.T, X) + b\n",
        "  # Another comment because they need to add another line of code\n",
        "  y += torch.normal(0, sigma, y.shape)\n",
        "\n",
        "  return X, y.reshape((-1, 1))\n",
        "\n",
        "\n",
        "w = torch.tensor([2.5]).reshape(-1,1)\n",
        "b = 1.2\n",
        "N = 50\n",
        "\n",
        "# Uncomment the code below to test your function\n",
        "# we usually define the plotting function in the hidden Helper Functions\n",
        "# so students don't have to see a bunch of boilerplate matplotlib code\n",
        "# xkcd style for solution plot\n",
        "X, y = synthetic_dataset(weights=w, bias=b, num_examples=10, sigma=2.5,\n",
        "                         seed=2021)\n",
        "with plt.xkcd():\n",
        "  plot_data(X, y)"
      ],
      "execution_count": 8,
      "outputs": [
        {
          "output_type": "display_data",
          "data": {
            "image/png": "[encoded data removed]",
            "text/plain": [
              "<Figure size 576x432 with 1 Axes>"
            ]
          },
          "metadata": {
            "tags": [],
            "image/png": {
              "width": 560,
              "height": 416
            }
          }
        }
      ]
    },
    {
      "cell_type": "markdown",
      "metadata": {
        "id": "EuqpiL2Av-vd"
      },
      "source": [
        "---\n",
        "# Section 4: Code Style Guide\n",
        "\n",
        "This section will give you the information you'll need to write clear code in your networks and exercises. All code should be written in pytorch and follow standard PEP8 styleguides. "
      ]
    },
    {
      "cell_type": "code",
      "metadata": {
        "colab": {
          "base_uri": "https://localhost:8080/",
          "height": 519
        },
        "id": "AFd7Ji-twKIK",
        "outputId": "ae364be8-1680-4ba4-8013-f63f5edde8b7"
      },
      "source": [
        "#@title Video 3: Video 3 Name\n",
        "# Insert the ID of the corresponding youtube video\n",
        "from IPython.display import YouTubeVideo\n",
        "video = YouTubeVideo(id=\"\", width=854, height=480, fs=1)\n",
        "print(\"Video available at https://youtu.be/\" + video.id)\n",
        "video"
      ],
      "execution_count": 9,
      "outputs": [
        {
          "output_type": "stream",
          "text": [
            "Video available at https://youtu.be/\n"
          ],
          "name": "stdout"
        },
        {
          "output_type": "execute_result",
          "data": {
            "text/html": [
              "\n",
              "        <iframe\n",
              "            width=\"854\"\n",
              "            height=\"480\"\n",
              "            src=\"https://www.youtube.com/embed/?fs=1\"\n",
              "            frameborder=\"0\"\n",
              "            allowfullscreen\n",
              "        ></iframe>\n",
              "        "
            ],
            "text/plain": [
              "<IPython.lib.display.YouTubeVideo at 0x7fc0546bc990>"
            ]
          },
          "metadata": {
            "tags": []
          },
          "execution_count": 9
        }
      ]
    },
    {
      "cell_type": "markdown",
      "metadata": {
        "id": "_Z6vKsN89rN1"
      },
      "source": [
        "\n",
        "# 4.1 Building your network\n",
        "\n",
        "## Layer names guide\n",
        " Having consistent layer promotes learning by focusing attention on relevant changes to code. Students will take just as long to figure out why output layer is called 'fc' vs 'out' or 'linear' as they do to figure out which layer to use. For these common layers please adhere to the naming conventions below.\n",
        "for multiple layers please use: name1 , name2 to differentiate  \n",
        "\n",
        "\n",
        "\n",
        "\n",
        "\n",
        "---\n",
        "Layer guide\n",
        "1.   self.fc  = nn.Linear()    (for Fully Connected)\n",
        "2.   self.conv = nn.Conv2d()  \n",
        "3.   self.pool = nn.MaxPool()  \n",
        "4.   self.dropout = nn.Dropout() \n",
        "5.   self.batch_norm = nn.BatchNorm2d() \n",
        "6.   self.relu = F.Relu() \n",
        "7.   etc...\n",
        "---\n",
        "\n",
        "\n",
        " If there is some edge case and you feel the name is not elegant enough or you have important reason to name layers do so as:  name_* .\n",
        "\n",
        " For example, if you want a linear encoding and decoding layer, fc1 and fc2 would be confusing, so for clarity, you should write the layers as\n",
        "\n",
        "  fc_encoding_layer, fc_decoding_layer. \n",
        "\n",
        "\n",
        "\n",
        "\n",
        "\n",
        "\n"
      ]
    },
    {
      "cell_type": "code",
      "metadata": {
        "id": "mjXZX2bBFq5A"
      },
      "source": [
        "class CNN(nn.Module):\n",
        "  def __init__(self):\n",
        "    super(CNN, self).__init__()\n",
        "\n",
        "    ####################################################################\n",
        "    # Fill in missing code below (...),\n",
        "    # then remove or comment the line below to test your function\n",
        "    raise NotImplementedError(\"Define the required layers\")\n",
        "    ####################################################################\n",
        "    self.conv1 = nn.Conv2d(...)\n",
        "    self.conv2 = nn.Conv2d(...)\n",
        "    self.fc1 = nn.Linear(...)\n",
        "    self.fc2 = nn.Linear(...)\n",
        "    self.pool = nn.MaxPool2d(...)\n",
        "\n",
        "  def forward(self, x):\n",
        "    ####################################################################\n",
        "    # Fill in missing code below (...),\n",
        "    # then remove or comment the line below to test your function\n",
        "    # Hint: Do not forget to flatten the image as it goes from Convolution Layers to Linear Layers!\n",
        "    raise NotImplementedError(\"Define forward pass for any input x\")\n",
        "    ####################################################################\n",
        "    x = ...\n"
      ],
      "execution_count": 10,
      "outputs": []
    },
    {
      "cell_type": "code",
      "metadata": {
        "id": "msrOpAg6Hclj"
      },
      "source": [
        "# to_remove solution\n",
        "class CNN(nn.Module):\n",
        "  def __init__(self):\n",
        "  \n",
        "    super(CNN, self).__init__()\n",
        "    self.conv1 = nn.Conv2d(1, 32, 3)\n",
        "    self.conv2 = nn.Conv2d(32, 64, 3)\n",
        "    self.fc1 = nn.Linear(9216, 128)\n",
        "    self.fc2 = nn.Linear(128, 2)\n",
        "    self.pool = nn.MaxPool2d(2)\n",
        "\n",
        "  def forward(self, x):\n",
        "    x = self.conv1(x)\n",
        "    x = F.relu(x)\n",
        "    x = self.conv2(x)\n",
        "    x = F.relu(x)\n",
        "    x = self.pool(x)\n",
        "    x = torch.flatten(x, 1)\n",
        "    x = self.fc1(x)\n",
        "    x = F.relu(x)        \n",
        "    x = self.fc2(x)\n",
        "    return x\n"
      ],
      "execution_count": 11,
      "outputs": []
    },
    {
      "cell_type": "markdown",
      "metadata": {
        "id": "Ersfq2c8VGGH"
      },
      "source": [
        "# 4.2 Model Training\n",
        "Training models is often a time consuming process of DL. Given the limited time and different compute power the class will have, that is time we cannot afford. \n",
        "\n",
        "For your lectures you should make use of what we like to call the 'cooking show' method of tutorial preparation. They are as follows.\n",
        "\n",
        "\n",
        "\n",
        "1.   Ingredients\n",
        "2.   Recipe\n",
        "3.   \"Here is one I already prepared\"\n",
        "4.   Tasting \n",
        "\n",
        "\n",
        "\n",
        "---\n",
        "1.   have an exercise to demonstrate the intuition of what the  key pieces of the network are doing\n",
        "2.   have an exercise that shows how the pieces all fit together \n",
        "3.   If training will take more than 5 minutes, load pretrained network.\n",
        "4.   Have students evaluate how pretrained or state of the art model performs. Have them try and break it! Understanding the current limits of DL shows students that DL isn't magic and gives insight as to what DL is good for. Plus students love it!  \n",
        "---\n",
        "\n"
      ]
    },
    {
      "cell_type": "markdown",
      "metadata": {
        "id": "Y6Pux46LWw7e"
      },
      "source": [
        "# 4.3 Munging Guide\n",
        "Data Munging- ( transformation,permutation,manipulation ) is one of the hardest sections for a new student to master. Our general aim is to mitigate that as much as possible by doing several things\n",
        "\n",
        "---\n",
        "*   Putting Munging operations in their own lines for code exercises \n",
        "*   Providing clear,descriptive code hints for what transformation needs to occur (i.e don't use `.view` !) \n",
        "*   use operations that are explicit to allow the student more insight.\n",
        "\n",
        "\n",
        "---\n",
        "\n",
        "## Examples \n",
        "Here is an example of a network that uses thes approaches well note how:\n",
        "\n",
        "\n",
        "1.   Tensor inputs and outputs shapes are clearly labeled\n",
        "2.   Hints are given when changes in these shapes occur\n",
        "\n",
        "\n"
      ]
    },
    {
      "cell_type": "code",
      "metadata": {
        "id": "DTY-kaQ-re74"
      },
      "source": [
        "class Encoder(nn.Module):\n",
        "  \"\"\"The RNN encoder for sequence to sequence learning.\"\"\"\n",
        "  def __init__(self, vocab_size, embed_size, num_hiddens, num_layers,\n",
        "                dropout=0):\n",
        "    super(Encoder, self).__init__()\n",
        "\n",
        "    self.embedding = nn.Embedding(vocab_size, embed_size)\n",
        "    self.gru = nn.GRU(embed_size, num_hiddens, num_layers,\n",
        "                      dropout=dropout)\n",
        "\n",
        "  def forward(self, X):\n",
        "    \"\"\"Hint: always make sure your sizes are correct\"\"\"\n",
        "    ####################################################################\n",
        "    # Fill in missing code below (...),\n",
        "    # then remove or comment the line below to test your function\n",
        "    raise NotImplementedError(\"Encoder Forward\")\n",
        "    ####################################################################\n",
        "\n",
        "    # The output `X` shape: (`batch_size`, `num_steps`, `embed_size`)\n",
        "\n",
        "    # Embedding layer + reshape\n",
        "    X = ...\n",
        "\n",
        "    # Recurrent unit\n",
        "\n",
        "    # `output` shape: (`num_steps`, `batch_size`, `num_hiddens`)\n",
        "    # `state` shape: (`num_layers`, `batch_size`, `num_hiddens`)\n",
        "    return output, state\n",
        "\n",
        "\n",
        "class Decoder(nn.Module):\n",
        "    \"\"\"The RNN decoder for sequence to sequence learning.\"\"\"\n",
        "    def __init__(self, vocab_size, embed_size, num_hiddens, num_layers,\n",
        "                 dropout=0):\n",
        "        super(Decoder, self).__init__()\n",
        "        self.embedding = nn.Embedding(vocab_size, embed_size)\n",
        "        \n",
        "        self.gru = nn.GRU(embed_size + num_hiddens, num_hiddens, num_layers,\n",
        "                          dropout=dropout)\n",
        "        self.dense = nn.Linear(num_hiddens, vocab_size)\n",
        "        \n",
        "    def init_state(self, enc_outputs):\n",
        "        return enc_outputs[1]\n",
        "\n",
        "    def forward(self, X, state):\n",
        "        \"\"\"Hint: always make sure your sizes are correct\"\"\"\n",
        "        ####################################################################\n",
        "        # Fill in missing code below (...),\n",
        "        # then remove or comment the line below to test your function\n",
        "        raise NotImplementedError(\"Decoder Forward\")\n",
        "        ####################################################################\n",
        "\n",
        "        # The output `X` shape: (`num_steps`, `batch_size`, `embed_size`)\n",
        "        X = ...\n",
        "        # Broadcast `context` so it has the same `num_steps` as `X`\n",
        "        context = ...\n",
        "\n",
        "        # Concatenate X and context \n",
        "        X_and_context = ...\n",
        "\n",
        "        # Recurrent unit\n",
        "        output, state = self.rnn(X_and_context, state)\n",
        "\n",
        "        # Linear layer\n",
        "        output = ...\n",
        "\n",
        "        # `output` shape: (`batch_size`, `num_steps`, `vocab_size`)\n",
        "        # `state` shape: (`num_layers`, `batch_size`, `num_hiddens`)\n",
        "        return output, state\n",
        "\n",
        "# # Uncomment to run\n",
        "# encoder = Encoder(1000, 300, 100, 2, 0.1)\n",
        "# decoder = Decoder(1000, 300, 100, 2, 0.1)\n",
        "# print(encoder)\n",
        "# print(decoder)"
      ],
      "execution_count": 12,
      "outputs": []
    },
    {
      "cell_type": "markdown",
      "metadata": {
        "id": "EDporX7Trenr"
      },
      "source": [
        "# Here's a bad example \n",
        "\n",
        "Look at the LSTM's forward method, the first instance is what the student see's and forward method after the `#solution to_remove` is the perscribed answer\n"
      ]
    },
    {
      "cell_type": "code",
      "metadata": {
        "id": "tKtCYIqMueeK"
      },
      "source": [
        "class LSTM(nn.Module):\n",
        "  def __init__(self, layers, output_size, hidden_size, vocab_size, embed_size):\n",
        "    super(LSTM, self).__init__()\n",
        "\n",
        "    self.output_size = output_size\n",
        "    self.hidden_size = hidden_size\n",
        "    self.vocab_size = vocab_size\n",
        "    self.embed_size = embed_size\n",
        "    self.n_layers = layers\n",
        "\n",
        "    ####################################################################\n",
        "    # Fill in missing code below (...),\n",
        "    # then remove or comment the line below to test your function\n",
        "    raise NotImplementedError(\"LSTM Init\")\n",
        "    ####################################################################\n",
        "    self.word_embeddings = ...\n",
        "    self.dropout = ...\n",
        "    self.lstm = ...\n",
        "    self.fc = ...\n",
        "\n",
        "  def forward(self, input_sentences):\n",
        "    \"\"\"Hint: Make sure the shapes of your tensors match the requirement\"\"\"\n",
        "\n",
        "    ####################################################################\n",
        "    # Fill in missing code below (...),\n",
        "    # then remove or comment the line below to test your function\n",
        "    raise NotImplementedError(\"LSTM Forward\")\n",
        "    ####################################################################\n",
        "\n",
        "    # Embeddings \n",
        "    # `input` shape: (`num_steps`, `batch_size`, `num_hiddens`)\n",
        "    input = ...\n",
        "\n",
        "    # Initialize a random hidden state and cell state for this sequence\n",
        "    hidden = (torch.randn(self.n_layers, input.shape[1], self.hidden_size).to(device),\n",
        "            torch.randn(self.n_layers, input.shape[1], self.hidden_size).to(device))\n",
        "\n",
        "    # Dropout for regularization\n",
        "    input = self.dropout(input)\n",
        "\n",
        "    # LSTM \n",
        "    output, hidden = ...\n",
        "\n",
        "    # Pick the hidden state (not cell state) and reshape it for the linear layer\n",
        "    h_n = ...\n",
        "\n",
        "    # Linear \n",
        "    logits = self.fc(h_n)\n",
        "    return logits\n",
        "\n",
        "# # Uncomment to run\n",
        "# sampleLSTM = LSTM(3, 10, 100, 1000, 300)\n",
        "# print(sampleLSTM)\n",
        "\n",
        "\n",
        "\n",
        "# Solution - to remove\n",
        "class LSTM(nn.Module):\n",
        "  def __init__(self, layers, output_size, hidden_size, vocab_size, embed_size):\n",
        "    super(LSTM, self).__init__()\n",
        "\n",
        "    self.output_size = output_size\n",
        "    self.hidden_size = hidden_size\n",
        "    self.vocab_size = vocab_size\n",
        "    self.embed_size = embed_size\n",
        "    self.n_layers = layers\n",
        "\n",
        "    self.word_embeddings = nn.Embedding(vocab_size, embed_size)\n",
        "    self.dropout = nn.Dropout(0.5)\n",
        "    self.lstm = nn.LSTM(embed_size, hidden_size, num_layers=self.n_layers)\n",
        "    self.fc = nn.Linear(self.n_layers*self.hidden_size, output_size)\n",
        "\n",
        "  def forward(self, input_sentences):\n",
        "    input = self.word_embeddings(input_sentences).permute(1, 0, 2)\n",
        "    hidden = (torch.randn(self.n_layers, input.shape[1], self.hidden_size).to(device),\n",
        "            torch.randn(self.n_layers, input.shape[1], self.hidden_size).to(device))\n",
        "    input = self.dropout(input)\n",
        "    output, hidden = self.lstm(input, hidden)\n",
        "    h_n = hidden[0].permute(1, 0, 2)\n",
        "    h_n = h_n.contiguous().view(h_n.shape[0], -1)\n",
        "    logits = self.fc(h_n)\n",
        "    return logits"
      ],
      "execution_count": 13,
      "outputs": []
    },
    {
      "cell_type": "markdown",
      "metadata": {
        "id": "mGVjVQytvAEH"
      },
      "source": [
        "There are several problems with this section, including:\n",
        "\n",
        "1.   Too many composed functions written in one line\n",
        "2.   no code hints to students describing what manipulations need to occur\n",
        "3.   It is not obvious what is occuring in the two h_n manipulations as the code is generic \n",
        "4.   Using Logits as output and using output as a different variable is confusing \n",
        "\n"
      ]
    },
    {
      "cell_type": "markdown",
      "metadata": {
        "id": "_Q5mmpfWR1Gd"
      },
      "source": [
        "# 4.3 Munging Code Best Practices \n",
        "while not a complete list, here are some common operations and how to make them more interpretable"
      ]
    },
    {
      "cell_type": "code",
      "metadata": {
        "colab": {
          "base_uri": "https://localhost:8080/"
        },
        "id": "5vKsuzCRULET",
        "outputId": "32f3aef9-85e6-4074-8839-e2da5147d90f"
      },
      "source": [
        "# using rearrage instead of transpose allows users to understand from code\n",
        "# which dimensions are changing\n",
        "\n",
        "from einops import rearrange\n",
        "\n",
        "# `ims` is a input ( `batch_size`, `height`, `width`, `num_channels` ) tensor\n",
        "ims = torch.rand(5, 100, 128, 3)\n",
        "\n",
        "# ims.transpose(0,2,1,3) equivalent \n",
        "t = rearrange(ims, 'b h w c -> b w h c')\n",
        "print(t.shape)"
      ],
      "execution_count": 14,
      "outputs": [
        {
          "output_type": "stream",
          "text": [
            "torch.Size([5, 128, 100, 3])\n"
          ],
          "name": "stdout"
        }
      ]
    },
    {
      "cell_type": "markdown",
      "metadata": {
        "id": "rxAPhrthUlQA"
      },
      "source": [
        "Full einops tutorial [here](http://einops.rocks/1-einops-basics/#welcome-to-einops-land)"
      ]
    },
    {
      "cell_type": "markdown",
      "metadata": {
        "id": "xweIQTUCQ5vd"
      },
      "source": [
        "## Flattening tensors"
      ]
    },
    {
      "cell_type": "code",
      "metadata": {
        "colab": {
          "base_uri": "https://localhost:8080/"
        },
        "id": "g4oiA3clUykv",
        "outputId": "9b00a1fc-31c5-452e-cb9e-eecafec10807"
      },
      "source": [
        "# Flatten Tensors with rearrange or torch.flatten\n",
        "# ims.view(-1)\n",
        "\n",
        "t = torch.flatten(ims, start_dim=1, end_dim = 2)\n",
        "print(t.shape)"
      ],
      "execution_count": 15,
      "outputs": [
        {
          "output_type": "stream",
          "text": [
            "torch.Size([5, 12800, 3])\n"
          ],
          "name": "stdout"
        }
      ]
    },
    {
      "cell_type": "markdown",
      "metadata": {
        "id": "WhzpNLFSQ9IT"
      },
      "source": [
        "## Adding dimensions"
      ]
    },
    {
      "cell_type": "code",
      "metadata": {
        "colab": {
          "base_uri": "https://localhost:8080/"
        },
        "id": "LC93wfg70qmi",
        "outputId": "f8214939-474d-4150-fd46-881f63e0fd66"
      },
      "source": [
        "# Add dimensions using unsqueeze \n",
        "im = torch.rand(100, 128)\n",
        "\n",
        "# lets say im is one image from our dataset and we want to set it back to \n",
        "# a 4-d `batch` , `height`, `width`, `channels` tensor \n",
        "\n",
        "t = im.unsqueeze(0).unsqueeze(3) \n",
        "print(t.shape)"
      ],
      "execution_count": 16,
      "outputs": [
        {
          "output_type": "stream",
          "text": [
            "torch.Size([1, 100, 128, 1])\n"
          ],
          "name": "stdout"
        }
      ]
    },
    {
      "cell_type": "markdown",
      "metadata": {
        "id": "iNIu3GJyxD2c"
      },
      "source": [
        "# NLP Specific info\n",
        "\n",
        "From Dr. Lyle Ungar \n",
        "\n",
        "1.   This is a international class so use Glove for word embedding.\n",
        "2.   Use smaller networks, RoBERTA works even better than BERT and is same size. it will have a warning that CLS token is untrained but can suppress.\n",
        "3.   Training times for NLp can be quite large so be sure to use pretrained models when appropriate\n",
        "\n",
        "\n",
        "\n",
        "\n",
        "\n",
        "\n",
        "\n",
        "\n",
        "\n",
        "\n"
      ]
    },
    {
      "cell_type": "code",
      "metadata": {
        "id": "JQycBYKgd47Q"
      },
      "source": [
        ""
      ],
      "execution_count": 16,
      "outputs": []
    },
    {
      "cell_type": "markdown",
      "metadata": {
        "id": "jENvGy_Jd6AD"
      },
      "source": [
        "# RL Specific Info\n",
        "### TO-DO"
      ]
    }
  ]
}